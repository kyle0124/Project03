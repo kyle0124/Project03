{
 "cells": [
  {
   "cell_type": "code",
   "execution_count": 1,
   "id": "b461d121",
   "metadata": {},
   "outputs": [],
   "source": [
    "import numpy as np\n",
    "import pandas as pd\n",
    "import matplotlib.pyplot as plt\n",
    "import seaborn as sns\n",
    "import warnings\n",
    "import os\n",
    "warnings.filterwarnings('ignore')\n",
    "%matplotlib inline"
   ]
  },
  {
   "cell_type": "code",
   "execution_count": 2,
   "id": "de510df8",
   "metadata": {},
   "outputs": [
    {
     "data": {
      "text/plain": [
       "'grandeur'"
      ]
     },
     "execution_count": 2,
     "metadata": {},
     "output_type": "execute_result"
    }
   ],
   "source": [
    "os.listdir('./car')[0][:-4]"
   ]
  },
  {
   "cell_type": "code",
   "execution_count": 3,
   "id": "3ace66f2",
   "metadata": {},
   "outputs": [],
   "source": [
    "mapper = {\n",
    "    '썬루프' : 'sunroof', \n",
    "    '제논라이트(HID)' : 'HID',\n",
    "    '알루미늄휠' : 'Al_wheel', \n",
    "    '전동접이식미러' : 'auto_mirror', \n",
    "    '주간주행등(DLR)' : 'DLR', \n",
    "    '파노라마썬루프' : 'sunroof_pano', \n",
    "    '루프랙' : 'roof_rack', \n",
    "    'LED리어램프' : 'LED',\n",
    "    '하이빔 어시스트' : 'HBA', \n",
    "    '고스트 도어 클로징' : 'ghost_door', \n",
    "    '자동슬라이딩도어' : 'sliding_door', \n",
    "    '전동사이드스탭' : 'side_step', \n",
    "    '어댑티드헤드램프' : 'adap_h', \n",
    "    '열선시트' : 'driver_heated_seat',\n",
    "    '통풍시트' : 'driver_ventilated_seat', \n",
    "    '파워핸들' : 'power_steering', \n",
    "    '핸들 리모컨' : 'steering_remote', \n",
    "    '가죽시트' : 'leahter_seat',\n",
    "    '운전석전동시트' : 'driver_elec_seat', \n",
    "    '조수석전동시트' : 'pass_elec_seat', \n",
    "    '뒷좌석전동시트' : 'back_elec_seat',\n",
    "    '메모리시트' : 'driver_memory_seat',\n",
    "    '안마시트' : 'massage_seat', \n",
    "    '슈퍼비전계기판' : 'supervision_cluster', \n",
    "    '패들시프트' : 'paddle_shift', \n",
    "    '하이패스' : 'hi_pass', \n",
    "    '메모리시트(동승석)' : 'pass_memory_seat', \n",
    "    '열선시트(뒷좌석)' : 'back_heated_seat',\n",
    "    '엠비언트라이트' : 'amb_light',\n",
    "    '워크인시트' : 'walkin_seat', \n",
    "    '전동햇빛가리개' : 'sun_visor', \n",
    "    '통풍시트(동승석)' : 'pass_ventilated_seat',\n",
    "    '통풍시트(뒷좌석)' : 'back_ventilated_seat', \n",
    "    '후방감지센서' : 'back_sensor',\n",
    "    '사이드&amp;커튼에어백' : 'side_airbag', \n",
    "    '운전석에어백' : 'driver_airbag', \n",
    "    '조수석에어백' : 'pass_airbag', \n",
    "    '후방카메라' : 'back_camera', \n",
    "    '어라운드뷰' : 'around_view', \n",
    "    '블랙박스' : 'blackbox', \n",
    "    'ABS' : 'ABS',\n",
    "    'ECS' : 'ECS', \n",
    "    'TCS' : 'TCS', \n",
    "    '차체자세제어장치' : 'ESC', \n",
    "    '차선이탈경보장치' : 'LDWS', \n",
    "    '도난경보기' : 'bur_alarm', \n",
    "    '타이어 공기압감지' : 'TPMS', \n",
    "    '무릎에어백' : 'knee_airbag',\n",
    "    '주차감지센서(전방)' : 'parking_sensor', \n",
    "    '전방카메라' : 'front_carmera', \n",
    "    '자동긴급제동(AEB)' : 'AEB', \n",
    "    '스마트키' : 'smartkey', \n",
    "    '파워윈도우' : 'power_window', \n",
    "    '자동도어잠금' : 'auto_doorlock',\n",
    "    '풀오토에어컨' : 'fullauto_aircon', \n",
    "    '오토라이트' : 'auto_light', \n",
    "    '자동주차시스템' : 'auto_parking', \n",
    "    '전자식파킹브레이크' : 'elec_parking_break', \n",
    "    'HUD' : 'HUD', \n",
    "    'ECM룸밀러' : 'ECM', \n",
    "    '크루즈컨트롤' : 'cruise_control',\n",
    "    '전동트렁크' : 'auto_trunk', \n",
    "    '핸들열선' : 'heated_steering', \n",
    "    '무선도어 잠금장치' : 'keyless_doorlock', \n",
    "    '레인센서와이퍼' : 'rain_sensor', \n",
    "    '스탑앤고' : 'stopNgo', \n",
    "    '무선충전' : 'wireless_charge', \n",
    "    '내비게이션' : 'navi',\n",
    "    'CD플레이어' : 'CDrom',\n",
    "    'CD체인저' : 'CD_changer', \n",
    "    'AV시스템' : 'av_sys',\n",
    "    'MP3' : 'mp3', \n",
    "    'AUX' : 'AUX', \n",
    "    'USB' : 'USB', \n",
    "    '핸즈프리' : 'handsfree',\n",
    "    'iPod 단자' : 'iPod',\n",
    "    '뒷좌석모니터' : 'back_monitor', \n",
    "    '스마트폰미러링' : 'mirroring',\n",
    "    '내비게이션 (비순정)' : 'non_genu_navi', \n",
    "    '블루투스' : 'bluetooth'\n",
    "}"
   ]
  },
  {
   "cell_type": "code",
   "execution_count": 8,
   "id": "41e6071c",
   "metadata": {},
   "outputs": [],
   "source": [
    "df = pd.read_csv('./car/tucson.csv')\n",
    "df.rename(columns=mapper, inplace=True)\n",
    "df.to_csv('./car/tucson_engColumns.csv', index=False)"
   ]
  },
  {
   "cell_type": "code",
   "execution_count": 10,
   "id": "11be7851",
   "metadata": {},
   "outputs": [
    {
     "name": "stdout",
     "output_type": "stream",
     "text": [
      "grandeur.csv\n",
      "grandeur_engColumns_noname_dummies.csv\n",
      "k5.csv\n",
      "k5_engColumns_noname.csv\n",
      "k5_engColumns_noname_dummies.csv\n",
      "morning.csv\n",
      "morning_engColumns_noname.csv\n",
      "morning_engColumns_noname_dummies.csv\n",
      "tucson.csv\n",
      "tucson_engColumns_noname.csv\n",
      "tucson_engColumns_noname_dummies.csv\n"
     ]
    }
   ],
   "source": [
    "for file in os.listdir('./car') :\n",
    "#     print(file)\n",
    "    df = pd.read_csv('./car/' + file)\n",
    "    df.rename(columns=mapper, inplace=True)\n",
    "    df.to_csv('./car/' + file[:-4] + '_engColumns.csv', index=False)"
   ]
  },
  {
   "cell_type": "code",
   "execution_count": 6,
   "id": "d7fc80a8",
   "metadata": {},
   "outputs": [
    {
     "ename": "KeyError",
     "evalue": "\"['name'] not found in axis\"",
     "output_type": "error",
     "traceback": [
      "\u001b[1;31m---------------------------------------------------------------------------\u001b[0m",
      "\u001b[1;31mKeyError\u001b[0m                                  Traceback (most recent call last)",
      "Cell \u001b[1;32mIn[6], line 4\u001b[0m\n\u001b[0;32m      2\u001b[0m \u001b[38;5;28;01mif\u001b[39;00m file\u001b[38;5;241m.\u001b[39mfind(\u001b[38;5;124m'\u001b[39m\u001b[38;5;124m_\u001b[39m\u001b[38;5;124m'\u001b[39m) \u001b[38;5;241m>\u001b[39m \u001b[38;5;241m0\u001b[39m :\n\u001b[0;32m      3\u001b[0m     df \u001b[38;5;241m=\u001b[39m pd\u001b[38;5;241m.\u001b[39mread_csv(\u001b[38;5;124m'\u001b[39m\u001b[38;5;124m./car/\u001b[39m\u001b[38;5;124m'\u001b[39m \u001b[38;5;241m+\u001b[39m file)\n\u001b[1;32m----> 4\u001b[0m     df\u001b[38;5;241m.\u001b[39mdrop(columns\u001b[38;5;241m=\u001b[39m\u001b[38;5;124m'\u001b[39m\u001b[38;5;124mname\u001b[39m\u001b[38;5;124m'\u001b[39m, inplace\u001b[38;5;241m=\u001b[39m\u001b[38;5;28;01mTrue\u001b[39;00m)\n\u001b[0;32m      5\u001b[0m     df\u001b[38;5;241m.\u001b[39mto_csv(\u001b[38;5;124m'\u001b[39m\u001b[38;5;124m./car/\u001b[39m\u001b[38;5;124m'\u001b[39m \u001b[38;5;241m+\u001b[39m file[:\u001b[38;5;241m-\u001b[39m\u001b[38;5;241m4\u001b[39m] \u001b[38;5;241m+\u001b[39m \u001b[38;5;124m'\u001b[39m\u001b[38;5;124m_noname.csv\u001b[39m\u001b[38;5;124m'\u001b[39m, index\u001b[38;5;241m=\u001b[39m\u001b[38;5;28;01mFalse\u001b[39;00m)\n",
      "File \u001b[1;32m~\\anaconda3\\Lib\\site-packages\\pandas\\core\\frame.py:5258\u001b[0m, in \u001b[0;36mDataFrame.drop\u001b[1;34m(self, labels, axis, index, columns, level, inplace, errors)\u001b[0m\n\u001b[0;32m   5110\u001b[0m \u001b[38;5;28;01mdef\u001b[39;00m \u001b[38;5;21mdrop\u001b[39m(\n\u001b[0;32m   5111\u001b[0m     \u001b[38;5;28mself\u001b[39m,\n\u001b[0;32m   5112\u001b[0m     labels: IndexLabel \u001b[38;5;241m=\u001b[39m \u001b[38;5;28;01mNone\u001b[39;00m,\n\u001b[1;32m   (...)\u001b[0m\n\u001b[0;32m   5119\u001b[0m     errors: IgnoreRaise \u001b[38;5;241m=\u001b[39m \u001b[38;5;124m\"\u001b[39m\u001b[38;5;124mraise\u001b[39m\u001b[38;5;124m\"\u001b[39m,\n\u001b[0;32m   5120\u001b[0m ) \u001b[38;5;241m-\u001b[39m\u001b[38;5;241m>\u001b[39m DataFrame \u001b[38;5;241m|\u001b[39m \u001b[38;5;28;01mNone\u001b[39;00m:\n\u001b[0;32m   5121\u001b[0m \u001b[38;5;250m    \u001b[39m\u001b[38;5;124;03m\"\"\"\u001b[39;00m\n\u001b[0;32m   5122\u001b[0m \u001b[38;5;124;03m    Drop specified labels from rows or columns.\u001b[39;00m\n\u001b[0;32m   5123\u001b[0m \n\u001b[1;32m   (...)\u001b[0m\n\u001b[0;32m   5256\u001b[0m \u001b[38;5;124;03m            weight  1.0     0.8\u001b[39;00m\n\u001b[0;32m   5257\u001b[0m \u001b[38;5;124;03m    \"\"\"\u001b[39;00m\n\u001b[1;32m-> 5258\u001b[0m     \u001b[38;5;28;01mreturn\u001b[39;00m \u001b[38;5;28msuper\u001b[39m()\u001b[38;5;241m.\u001b[39mdrop(\n\u001b[0;32m   5259\u001b[0m         labels\u001b[38;5;241m=\u001b[39mlabels,\n\u001b[0;32m   5260\u001b[0m         axis\u001b[38;5;241m=\u001b[39maxis,\n\u001b[0;32m   5261\u001b[0m         index\u001b[38;5;241m=\u001b[39mindex,\n\u001b[0;32m   5262\u001b[0m         columns\u001b[38;5;241m=\u001b[39mcolumns,\n\u001b[0;32m   5263\u001b[0m         level\u001b[38;5;241m=\u001b[39mlevel,\n\u001b[0;32m   5264\u001b[0m         inplace\u001b[38;5;241m=\u001b[39minplace,\n\u001b[0;32m   5265\u001b[0m         errors\u001b[38;5;241m=\u001b[39merrors,\n\u001b[0;32m   5266\u001b[0m     )\n",
      "File \u001b[1;32m~\\anaconda3\\Lib\\site-packages\\pandas\\core\\generic.py:4549\u001b[0m, in \u001b[0;36mNDFrame.drop\u001b[1;34m(self, labels, axis, index, columns, level, inplace, errors)\u001b[0m\n\u001b[0;32m   4547\u001b[0m \u001b[38;5;28;01mfor\u001b[39;00m axis, labels \u001b[38;5;129;01min\u001b[39;00m axes\u001b[38;5;241m.\u001b[39mitems():\n\u001b[0;32m   4548\u001b[0m     \u001b[38;5;28;01mif\u001b[39;00m labels \u001b[38;5;129;01mis\u001b[39;00m \u001b[38;5;129;01mnot\u001b[39;00m \u001b[38;5;28;01mNone\u001b[39;00m:\n\u001b[1;32m-> 4549\u001b[0m         obj \u001b[38;5;241m=\u001b[39m obj\u001b[38;5;241m.\u001b[39m_drop_axis(labels, axis, level\u001b[38;5;241m=\u001b[39mlevel, errors\u001b[38;5;241m=\u001b[39merrors)\n\u001b[0;32m   4551\u001b[0m \u001b[38;5;28;01mif\u001b[39;00m inplace:\n\u001b[0;32m   4552\u001b[0m     \u001b[38;5;28mself\u001b[39m\u001b[38;5;241m.\u001b[39m_update_inplace(obj)\n",
      "File \u001b[1;32m~\\anaconda3\\Lib\\site-packages\\pandas\\core\\generic.py:4591\u001b[0m, in \u001b[0;36mNDFrame._drop_axis\u001b[1;34m(self, labels, axis, level, errors, only_slice)\u001b[0m\n\u001b[0;32m   4589\u001b[0m         new_axis \u001b[38;5;241m=\u001b[39m axis\u001b[38;5;241m.\u001b[39mdrop(labels, level\u001b[38;5;241m=\u001b[39mlevel, errors\u001b[38;5;241m=\u001b[39merrors)\n\u001b[0;32m   4590\u001b[0m     \u001b[38;5;28;01melse\u001b[39;00m:\n\u001b[1;32m-> 4591\u001b[0m         new_axis \u001b[38;5;241m=\u001b[39m axis\u001b[38;5;241m.\u001b[39mdrop(labels, errors\u001b[38;5;241m=\u001b[39merrors)\n\u001b[0;32m   4592\u001b[0m     indexer \u001b[38;5;241m=\u001b[39m axis\u001b[38;5;241m.\u001b[39mget_indexer(new_axis)\n\u001b[0;32m   4594\u001b[0m \u001b[38;5;66;03m# Case for non-unique axis\u001b[39;00m\n\u001b[0;32m   4595\u001b[0m \u001b[38;5;28;01melse\u001b[39;00m:\n",
      "File \u001b[1;32m~\\anaconda3\\Lib\\site-packages\\pandas\\core\\indexes\\base.py:6699\u001b[0m, in \u001b[0;36mIndex.drop\u001b[1;34m(self, labels, errors)\u001b[0m\n\u001b[0;32m   6697\u001b[0m \u001b[38;5;28;01mif\u001b[39;00m mask\u001b[38;5;241m.\u001b[39many():\n\u001b[0;32m   6698\u001b[0m     \u001b[38;5;28;01mif\u001b[39;00m errors \u001b[38;5;241m!=\u001b[39m \u001b[38;5;124m\"\u001b[39m\u001b[38;5;124mignore\u001b[39m\u001b[38;5;124m\"\u001b[39m:\n\u001b[1;32m-> 6699\u001b[0m         \u001b[38;5;28;01mraise\u001b[39;00m \u001b[38;5;167;01mKeyError\u001b[39;00m(\u001b[38;5;124mf\u001b[39m\u001b[38;5;124m\"\u001b[39m\u001b[38;5;132;01m{\u001b[39;00m\u001b[38;5;28mlist\u001b[39m(labels[mask])\u001b[38;5;132;01m}\u001b[39;00m\u001b[38;5;124m not found in axis\u001b[39m\u001b[38;5;124m\"\u001b[39m)\n\u001b[0;32m   6700\u001b[0m     indexer \u001b[38;5;241m=\u001b[39m indexer[\u001b[38;5;241m~\u001b[39mmask]\n\u001b[0;32m   6701\u001b[0m \u001b[38;5;28;01mreturn\u001b[39;00m \u001b[38;5;28mself\u001b[39m\u001b[38;5;241m.\u001b[39mdelete(indexer)\n",
      "\u001b[1;31mKeyError\u001b[0m: \"['name'] not found in axis\""
     ]
    }
   ],
   "source": [
    "for file in os.listdir('./car') :\n",
    "    if file.find('_') > 0 :\n",
    "        df = pd.read_csv('./car/' + file)\n",
    "        df.drop(columns='name', inplace=True)\n",
    "        df.to_csv('./car/' + file[:-4] + '_noname.csv', index=False)"
   ]
  },
  {
   "cell_type": "code",
   "execution_count": null,
   "id": "ae56db0f",
   "metadata": {},
   "outputs": [],
   "source": []
  },
  {
   "cell_type": "code",
   "execution_count": null,
   "id": "45560091",
   "metadata": {},
   "outputs": [],
   "source": []
  },
  {
   "cell_type": "code",
   "execution_count": null,
   "id": "b75d3577",
   "metadata": {},
   "outputs": [],
   "source": []
  },
  {
   "cell_type": "code",
   "execution_count": null,
   "id": "56d25d9a",
   "metadata": {},
   "outputs": [],
   "source": []
  },
  {
   "cell_type": "code",
   "execution_count": null,
   "id": "79174830",
   "metadata": {},
   "outputs": [],
   "source": []
  }
 ],
 "metadata": {
  "kernelspec": {
   "display_name": "Python 3 (ipykernel)",
   "language": "python",
   "name": "python3"
  },
  "language_info": {
   "codemirror_mode": {
    "name": "ipython",
    "version": 3
   },
   "file_extension": ".py",
   "mimetype": "text/x-python",
   "name": "python",
   "nbconvert_exporter": "python",
   "pygments_lexer": "ipython3",
   "version": "3.11.5"
  }
 },
 "nbformat": 4,
 "nbformat_minor": 5
}
