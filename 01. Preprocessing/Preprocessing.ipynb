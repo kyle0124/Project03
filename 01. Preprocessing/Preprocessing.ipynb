{
 "cells": [
  {
   "cell_type": "code",
   "execution_count": 1,
   "id": "13a93e5c",
   "metadata": {},
   "outputs": [],
   "source": [
    "import numpy as np\n",
    "import pandas as pd\n",
    "import matplotlib.pyplot as plt\n",
    "import seaborn as sns\n",
    "import warnings\n",
    "warnings.filterwarnings('ignore')\n",
    "import matplotlib.font_manager as fm\n",
    "font_path = 'C:\\\\Windows\\\\Fonts\\\\gulim.ttc'\n",
    "font_name = fm.FontProperties(fname=font_path).get_name()\n",
    "plt.rc('font', family=font_name)"
   ]
  },
  {
   "cell_type": "code",
   "execution_count": 4,
   "id": "ab021d35",
   "metadata": {},
   "outputs": [],
   "source": [
    "df1 = pd.read_csv('./files/tucson/csv/t01.csv')\n",
    "df2 = pd.read_csv('./files/tucson/csv/t02.csv')\n",
    "df3 = pd.read_csv('./files/tucson/csv/t03.csv')\n",
    "df4 = pd.read_csv('./files/tucson/csv/t04.csv')\n",
    "df5 = pd.read_csv('./files/tucson/csv/t05.csv')"
   ]
  },
  {
   "cell_type": "code",
   "execution_count": 12,
   "id": "9eecca6e",
   "metadata": {},
   "outputs": [
    {
     "data": {
      "text/html": [
       "<div>\n",
       "<style scoped>\n",
       "    .dataframe tbody tr th:only-of-type {\n",
       "        vertical-align: middle;\n",
       "    }\n",
       "\n",
       "    .dataframe tbody tr th {\n",
       "        vertical-align: top;\n",
       "    }\n",
       "\n",
       "    .dataframe thead th {\n",
       "        text-align: right;\n",
       "    }\n",
       "</style>\n",
       "<table border=\"1\" class=\"dataframe\">\n",
       "  <thead>\n",
       "    <tr style=\"text-align: right;\">\n",
       "      <th></th>\n",
       "      <th>name</th>\n",
       "      <th>year</th>\n",
       "      <th>fuel</th>\n",
       "      <th>distance</th>\n",
       "      <th>color</th>\n",
       "      <th>썬루프</th>\n",
       "      <th>제논라이트(HID)</th>\n",
       "      <th>알루미늄휠</th>\n",
       "      <th>전동접이식미러</th>\n",
       "      <th>주간주행등(DLR)</th>\n",
       "      <th>...</th>\n",
       "      <th>MP3</th>\n",
       "      <th>AUX</th>\n",
       "      <th>USB</th>\n",
       "      <th>핸즈프리</th>\n",
       "      <th>iPod 단자</th>\n",
       "      <th>뒷좌석모니터</th>\n",
       "      <th>스마트폰미러링</th>\n",
       "      <th>내비게이션 (비순정)</th>\n",
       "      <th>블루투스</th>\n",
       "      <th>price</th>\n",
       "    </tr>\n",
       "  </thead>\n",
       "  <tbody>\n",
       "    <tr>\n",
       "      <th>0</th>\n",
       "      <td>현대 올 뉴 투싼 디젤(e-VGT R</td>\n",
       "      <td>17</td>\n",
       "      <td>디젤</td>\n",
       "      <td>134579</td>\n",
       "      <td>회색</td>\n",
       "      <td>0</td>\n",
       "      <td>0</td>\n",
       "      <td>1</td>\n",
       "      <td>1</td>\n",
       "      <td>1</td>\n",
       "      <td>...</td>\n",
       "      <td>1</td>\n",
       "      <td>1</td>\n",
       "      <td>1</td>\n",
       "      <td>0</td>\n",
       "      <td>0</td>\n",
       "      <td>0</td>\n",
       "      <td>0</td>\n",
       "      <td>0</td>\n",
       "      <td>0</td>\n",
       "      <td>1260</td>\n",
       "    </tr>\n",
       "    <tr>\n",
       "      <th>1</th>\n",
       "      <td>현대 올 뉴 투싼 디젤(e-VGT R</td>\n",
       "      <td>18</td>\n",
       "      <td>디젤</td>\n",
       "      <td>101682</td>\n",
       "      <td>흰색</td>\n",
       "      <td>1</td>\n",
       "      <td>1</td>\n",
       "      <td>1</td>\n",
       "      <td>1</td>\n",
       "      <td>1</td>\n",
       "      <td>...</td>\n",
       "      <td>0</td>\n",
       "      <td>0</td>\n",
       "      <td>1</td>\n",
       "      <td>1</td>\n",
       "      <td>0</td>\n",
       "      <td>0</td>\n",
       "      <td>0</td>\n",
       "      <td>0</td>\n",
       "      <td>1</td>\n",
       "      <td>1850</td>\n",
       "    </tr>\n",
       "    <tr>\n",
       "      <th>2</th>\n",
       "      <td>현대 올 뉴 투싼 디젤(e-VGT R</td>\n",
       "      <td>17</td>\n",
       "      <td>디젤</td>\n",
       "      <td>168000</td>\n",
       "      <td>회색</td>\n",
       "      <td>0</td>\n",
       "      <td>0</td>\n",
       "      <td>1</td>\n",
       "      <td>1</td>\n",
       "      <td>1</td>\n",
       "      <td>...</td>\n",
       "      <td>0</td>\n",
       "      <td>1</td>\n",
       "      <td>0</td>\n",
       "      <td>0</td>\n",
       "      <td>0</td>\n",
       "      <td>0</td>\n",
       "      <td>0</td>\n",
       "      <td>0</td>\n",
       "      <td>0</td>\n",
       "      <td>1299</td>\n",
       "    </tr>\n",
       "    <tr>\n",
       "      <th>3</th>\n",
       "      <td>현대 투싼ix 디젤 2WD LX20 럭셔리</td>\n",
       "      <td>9</td>\n",
       "      <td>디젤</td>\n",
       "      <td>64239</td>\n",
       "      <td>회색</td>\n",
       "      <td>0</td>\n",
       "      <td>0</td>\n",
       "      <td>1</td>\n",
       "      <td>0</td>\n",
       "      <td>0</td>\n",
       "      <td>...</td>\n",
       "      <td>0</td>\n",
       "      <td>1</td>\n",
       "      <td>0</td>\n",
       "      <td>0</td>\n",
       "      <td>0</td>\n",
       "      <td>0</td>\n",
       "      <td>0</td>\n",
       "      <td>0</td>\n",
       "      <td>0</td>\n",
       "      <td>700</td>\n",
       "    </tr>\n",
       "    <tr>\n",
       "      <th>4</th>\n",
       "      <td>현대 뉴 투싼 ix 디젤(e-VGT</td>\n",
       "      <td>13</td>\n",
       "      <td>디젤</td>\n",
       "      <td>149044</td>\n",
       "      <td>회색</td>\n",
       "      <td>0</td>\n",
       "      <td>0</td>\n",
       "      <td>1</td>\n",
       "      <td>1</td>\n",
       "      <td>0</td>\n",
       "      <td>...</td>\n",
       "      <td>0</td>\n",
       "      <td>1</td>\n",
       "      <td>1</td>\n",
       "      <td>0</td>\n",
       "      <td>0</td>\n",
       "      <td>0</td>\n",
       "      <td>0</td>\n",
       "      <td>0</td>\n",
       "      <td>1</td>\n",
       "      <td>720</td>\n",
       "    </tr>\n",
       "  </tbody>\n",
       "</table>\n",
       "<p>5 rows × 86 columns</p>\n",
       "</div>"
      ],
      "text/plain": [
       "                      name  year fuel  distance color  썬루프  제논라이트(HID)  알루미늄휠  \\\n",
       "0     현대 올 뉴 투싼 디젤(e-VGT R    17   디젤    134579    회색    0           0      1   \n",
       "1     현대 올 뉴 투싼 디젤(e-VGT R    18   디젤    101682    흰색    1           1      1   \n",
       "2     현대 올 뉴 투싼 디젤(e-VGT R    17   디젤    168000    회색    0           0      1   \n",
       "3  현대 투싼ix 디젤 2WD LX20 럭셔리     9   디젤     64239    회색    0           0      1   \n",
       "4      현대 뉴 투싼 ix 디젤(e-VGT    13   디젤    149044    회색    0           0      1   \n",
       "\n",
       "   전동접이식미러  주간주행등(DLR)  ...  MP3  AUX  USB  핸즈프리  iPod 단자  뒷좌석모니터  스마트폰미러링  \\\n",
       "0        1           1  ...    1    1    1     0        0       0        0   \n",
       "1        1           1  ...    0    0    1     1        0       0        0   \n",
       "2        1           1  ...    0    1    0     0        0       0        0   \n",
       "3        0           0  ...    0    1    0     0        0       0        0   \n",
       "4        1           0  ...    0    1    1     0        0       0        0   \n",
       "\n",
       "   내비게이션 (비순정)  블루투스  price  \n",
       "0            0     0   1260  \n",
       "1            0     1   1850  \n",
       "2            0     0   1299  \n",
       "3            0     0    700  \n",
       "4            0     1    720  \n",
       "\n",
       "[5 rows x 86 columns]"
      ]
     },
     "execution_count": 12,
     "metadata": {},
     "output_type": "execute_result"
    }
   ],
   "source": [
    "df = pd.concat([df1,df2,df3,df4,df5])\n",
    "df.reset_index(inplace=True)\n",
    "df.drop(columns=['index'],inplace=True)\n",
    "df.head()"
   ]
  },
  {
   "cell_type": "code",
   "execution_count": 38,
   "id": "5e0fd909",
   "metadata": {},
   "outputs": [
    {
     "data": {
      "text/plain": [
       "year\n",
       "15    277\n",
       "16    247\n",
       "17    235\n",
       "18    207\n",
       "19    192\n",
       "13    184\n",
       "14    148\n",
       "11    137\n",
       "10    116\n",
       "12    109\n",
       "9      74\n",
       "20     69\n",
       "21      1\n",
       "7       1\n",
       "Name: count, dtype: int64"
      ]
     },
     "execution_count": 38,
     "metadata": {},
     "output_type": "execute_result"
    }
   ],
   "source": [
    "df['year'].value_counts()"
   ]
  },
  {
   "cell_type": "code",
   "execution_count": 21,
   "id": "e1c7ded4",
   "metadata": {},
   "outputs": [
    {
     "data": {
      "text/plain": [
       "color\n",
       "흰색           869\n",
       "회색           625\n",
       "은색           125\n",
       "검정색          124\n",
       "인기색상          61\n",
       "쥐색            58\n",
       "파랑색           32\n",
       "검정            31\n",
       "빨강색           12\n",
       "진주색           10\n",
       "파랑             7\n",
       "갈색             5\n",
       "청색             4\n",
       "블루펄            4\n",
       "노랑             4\n",
       "주황색            3\n",
       "다크그레이          3\n",
       "빨강(주홍)         2\n",
       "빨강             2\n",
       "미색             2\n",
       "하늘색            2\n",
       "흰색투톤           2\n",
       "더스크불루          1\n",
       "남색             1\n",
       "빨간색            1\n",
       "노랑색            1\n",
       "파랑(남색,곤색)      1\n",
       "진회색            1\n",
       "더스크 블루         1\n",
       "하이퍼메탈릭         1\n",
       "자주색            1\n",
       "갈색(밤색)         1\n",
       "Name: count, dtype: int64"
      ]
     },
     "execution_count": 21,
     "metadata": {},
     "output_type": "execute_result"
    }
   ],
   "source": [
    "df['color'].value_counts()"
   ]
  },
  {
   "cell_type": "code",
   "execution_count": 14,
   "id": "334c070b",
   "metadata": {},
   "outputs": [
    {
     "data": {
      "text/plain": [
       "fuel\n",
       "디젤     1917\n",
       "가솔린      75\n",
       "기타        3\n",
       "Name: count, dtype: int64"
      ]
     },
     "execution_count": 14,
     "metadata": {},
     "output_type": "execute_result"
    }
   ],
   "source": [
    "df['fuel'].value_counts()"
   ]
  },
  {
   "cell_type": "code",
   "execution_count": 36,
   "id": "d62443b0",
   "metadata": {},
   "outputs": [
    {
     "data": {
      "text/plain": [
       "name\n",
       "현대 올 뉴 투싼 디젤(e-VGT R              743\n",
       "현대 올 뉴 투싼 디젤(e-VGT UⅡ             379\n",
       "현대 뉴 투싼 ix 디젤(e-VGT               308\n",
       "현대 투싼ix 디젤 2WD LX20 럭셔리           159\n",
       "현대 투싼ix 디젤 2WD X20 럭셔리             93\n",
       "현대 올 뉴 투싼 가솔린 (Turbo GDi           67\n",
       "현대 투싼ix 디젤 2WD LX20 스마트팩           63\n",
       "현대 투싼ix 디젤 2WD LX20 프리미어           52\n",
       "현대 투싼ix 디젤 2WD X20 스페셜 팩           22\n",
       "현대 투싼ix 디젤 2WD LMX20 프리미엄          22\n",
       "현대 투싼ix 디젤 2WD X20 스마트             17\n",
       "현대 투싼ix 디젤 2WD LX20 모던             12\n",
       "현대 투싼ix 디젤 4WD LX20 프리미어           11\n",
       "현대 투싼ix 디젤 4WD LMX20 프리미엄          10\n",
       "현대 투싼ix 디젤 2WD X20 디럭스              9\n",
       "현대 투싼ix 디젤 4WD X20 럭셔리              8\n",
       "현대 올 뉴 투싼 가솔린(Turbo GDi             5\n",
       "현대 뉴 투싼 ix 수소(Fuel Cell             3\n",
       "현대 뉴 투싼 ix 가솔린 2.0 GDI 2WD 모던       3\n",
       "현대 투싼ix 가솔린 2WD LX20 프리미어           2\n",
       "현대 투싼ix 디젤 4WD X20 스마트              2\n",
       "현대 뉴 투싼 ix 가솔린 2.0 GDI 2WD 스타일      1\n",
       "현대 투싼ix 디젤 4WD LX20 모던              1\n",
       "현대 투싼ix 가솔린 2WD X20 워너비             1\n",
       "현대 뉴 투싼 ix 가솔린 2.0 GDI 2WD 스페셜      1\n",
       "현대 투싼ix 디젤 4WD X20 스타일              1\n",
       "현대 투싼ix 가솔린 2WD LMX20 프리미어          1\n",
       "현대 투싼ix 가솔린 2WD LX20 럭셔리            1\n",
       "Name: count, dtype: int64"
      ]
     },
     "execution_count": 36,
     "metadata": {},
     "output_type": "execute_result"
    }
   ],
   "source": [
    "df['name'].value_counts()"
   ]
  },
  {
   "cell_type": "code",
   "execution_count": 34,
   "id": "5a24016f",
   "metadata": {},
   "outputs": [],
   "source": [
    "df.loc[df['color'] == '흰색투톤', 'color'] = '흰색'\n",
    "df.loc[df['color'] == '검정', 'color'] = '검정색'\n",
    "df.loc[df['color'].isin(['다크그레이','진회색','하이퍼메탈릭']) , 'color'] = '회색'\n",
    "df.loc[df['color'].isin(['인기색상','파랑색','빨강색','진주색','파랑','갈색','청색',\n",
    "                         '블루펄','노랑','주황색','빨강(주홍)','빨강','미색','하늘색',\n",
    "                        '더스크불루','남색','빨간색','노랑색','파랑(남색,곤색)',\n",
    "                         '더스크 블루','자주색','갈색(밤색)']), 'color'] = '기타'"
   ]
  },
  {
   "cell_type": "code",
   "execution_count": 35,
   "id": "090bee56",
   "metadata": {},
   "outputs": [
    {
     "data": {
      "text/plain": [
       "color\n",
       "흰색     871\n",
       "회색     630\n",
       "기타     158\n",
       "검정색    155\n",
       "은색     125\n",
       "쥐색      58\n",
       "Name: count, dtype: int64"
      ]
     },
     "execution_count": 35,
     "metadata": {},
     "output_type": "execute_result"
    }
   ],
   "source": [
    "df.color.value_counts()"
   ]
  },
  {
   "cell_type": "code",
   "execution_count": 37,
   "id": "9ad19b4a",
   "metadata": {},
   "outputs": [
    {
     "data": {
      "image/png": "[encoded data removed]",
      "text/plain": [
       "<Figure size 640x480 with 1 Axes>"
      ]
     },
     "metadata": {},
     "output_type": "display_data"
    }
   ],
   "source": [
    "plt.pie(list(df['color'].value_counts()), labels=list(df['color'].value_counts().index),\n",
    "        autopct='%.1f%%', counterclock=False)\n",
    "plt.title('Color')\n",
    "plt.show()"
   ]
  },
  {
   "cell_type": "code",
   "execution_count": 39,
   "id": "470eaa8d",
   "metadata": {},
   "outputs": [
    {
     "data": {
      "image/png": "[encoded data removed]",
      "text/plain": [
       "<Figure size 640x480 with 1 Axes>"
      ]
     },
     "metadata": {},
     "output_type": "display_data"
    }
   ],
   "source": [
    "plt.pie(list(df['year'].value_counts()), labels=list(df['year'].value_counts().index),\n",
    "        autopct='%.1f%%', counterclock=False)\n",
    "plt.title('Year')\n",
    "plt.show()"
   ]
  },
  {
   "cell_type": "code",
   "execution_count": null,
   "id": "bb736012",
   "metadata": {},
   "outputs": [],
   "source": []
  }
 ],
 "metadata": {
  "kernelspec": {
   "display_name": "Python 3 (ipykernel)",
   "language": "python",
   "name": "python3"
  },
  "language_info": {
   "codemirror_mode": {
    "name": "ipython",
    "version": 3
   },
   "file_extension": ".py",
   "mimetype": "text/x-python",
   "name": "python",
   "nbconvert_exporter": "python",
   "pygments_lexer": "ipython3",
   "version": "3.11.5"
  }
 },
 "nbformat": 4,
 "nbformat_minor": 5
}
